{
 "cells": [
  {
   "cell_type": "markdown",
   "metadata": {
    "colab_type": "text",
    "id": "CCU3uXxp_4UG"
   },
   "source": [
    "# TensorFlow 2 - Keras Activations\n",
    "Activations can either be an **Activation** layer, or used through the **activation** arguement supported by all forward layers."
   ]
  },
  {
   "cell_type": "markdown",
   "metadata": {
    "colab_type": "text",
    "id": "EUPzd9HB_s6a"
   },
   "source": [
    "### softmax\n",
    "softmax activation function"
   ]
  },
  {
   "cell_type": "markdown",
   "metadata": {
    "colab_type": "text",
    "id": "Ln9ue-CPC-eb"
   },
   "source": [
    "### elu\n",
    "Exponential Linear unit"
   ]
  },
  {
   "cell_type": "markdown",
   "metadata": {
    "colab_type": "text",
    "id": "QvMicyeHC-l4"
   },
   "source": [
    "### selu\n",
    "Scaled Eponential Linear unit"
   ]
  },
  {
   "cell_type": "markdown",
   "metadata": {
    "colab_type": "text",
    "id": "HDoe6zt9C-qe"
   },
   "source": [
    "### softplus\n",
    "\n",
    "Softplus activation function\n",
    "\n"
   ]
  },
  {
   "cell_type": "markdown",
   "metadata": {
    "colab_type": "text",
    "id": "5gDhTI4tC-u7"
   },
   "source": [
    "### softsign\n",
    "Softsign activation function"
   ]
  },
  {
   "cell_type": "markdown",
   "metadata": {
    "colab_type": "text",
    "id": "dEqUFoqpC-yg"
   },
   "source": [
    "### relu\n",
    "Rectified Linear unit"
   ]
  },
  {
   "cell_type": "markdown",
   "metadata": {
    "colab_type": "text",
    "id": "qbR4mk0iC-2U"
   },
   "source": [
    "### tahn\n",
    "Hyperbolic tangent activation function"
   ]
  },
  {
   "cell_type": "markdown",
   "metadata": {
    "colab_type": "text",
    "id": "u9zDC4etC-5y"
   },
   "source": [
    "### sigmoid\n",
    "Sigmoid activation function"
   ]
  },
  {
   "cell_type": "markdown",
   "metadata": {
    "colab_type": "text",
    "id": "JN-eptFtERXB"
   },
   "source": [
    "### hard_sigmoid\n",
    "Hard Sigmoid activation function"
   ]
  }
 ],
 "metadata": {
  "colab": {
   "collapsed_sections": [],
   "name": "TensorFlow 2 - Keras Activations.ipynb",
   "provenance": [],
   "version": "0.3.2"
  },
  "kernelspec": {
   "display_name": "Python 3",
   "language": "python",
   "name": "python3"
  },
  "language_info": {
   "codemirror_mode": {
    "name": "ipython",
    "version": 3
   },
   "file_extension": ".py",
   "mimetype": "text/x-python",
   "name": "python",
   "nbconvert_exporter": "python",
   "pygments_lexer": "ipython3",
   "version": "3.6.5"
  }
 },
 "nbformat": 4,
 "nbformat_minor": 1
}
